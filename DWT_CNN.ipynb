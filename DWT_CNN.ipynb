{
 "cells": [
  {
   "cell_type": "code",
   "execution_count": 1,
   "metadata": {},
   "outputs": [],
   "source": [
    "import numpy as np\n",
    "import cv2\n",
    "import matplotlib.pyplot as plt\n",
    "\n",
    "import os\n",
    "import multiprocessing as mp\n",
    "from tqdm import tqdm\n",
    "import time\n",
    "\n",
    "# For feature extraction: discrete wavelet transform\n",
    "import pywt\n",
    "\n",
    "# For CNN\n",
    "import torch\n",
    "import torch.nn\n",
    "import torch.optim\n",
    "from torch.utils.data import TensorDataset, DataLoader\n",
    "from torch.nn.functional import softmax"
   ]
  },
  {
   "attachments": {},
   "cell_type": "markdown",
   "metadata": {},
   "source": [
    "### Reading images"
   ]
  },
  {
   "cell_type": "code",
   "execution_count": 2,
   "metadata": {},
   "outputs": [],
   "source": [
    "with open(\"./train.txt\") as f:\n",
    "    train_file_list = f.readlines()\n",
    "with open(\"./val.txt\") as f:\n",
    "    val_file_list = f.readlines()\n",
    "with open(\"./test.txt\") as f:\n",
    "    test_file_list = f.readlines()\n",
    "\n",
    "train_file_list = [x.strip().split(sep=\" \") for x in train_file_list]\n",
    "val_file_list = [x.strip().split(sep=\" \") for x in val_file_list]\n",
    "test_file_list = [x.strip().split(sep=\" \") for x in test_file_list]\n",
    "\n",
    "train_label = [int(x[1]) for x in train_file_list]\n",
    "val_label = [int(x[1]) for x in val_file_list]\n",
    "test_label = [int(x[1]) for x in test_file_list]\n",
    "\n",
    "train_file_list = [x[0] for x in train_file_list]\n",
    "val_file_list = [x[0] for x in val_file_list]\n",
    "test_file_list = [x[0] for x in test_file_list]"
   ]
  },
  {
   "cell_type": "code",
   "execution_count": 3,
   "metadata": {},
   "outputs": [
    {
     "name": "stdout",
     "output_type": "stream",
     "text": [
      "# cpus:  64\n"
     ]
    }
   ],
   "source": [
    "print(\"# cpus: \", os.cpu_count())\n",
    "NUM_PROCESSES = 8"
   ]
  },
  {
   "cell_type": "code",
   "execution_count": 4,
   "metadata": {},
   "outputs": [],
   "source": [
    "def ReadImage(filePath):\n",
    "    # image = cv2.imread(filePath, cv2.IMREAD_COLOR)\n",
    "    image = cv2.imread(filePath, cv2.IMREAD_GRAYSCALE)\n",
    "    # image = cv2.resize(image, (256, 256))\n",
    "    return image"
   ]
  },
  {
   "cell_type": "code",
   "execution_count": 5,
   "metadata": {},
   "outputs": [
    {
     "name": "stderr",
     "output_type": "stream",
     "text": [
      "100%|██████████| 63325/63325 [00:30<00:00, 2095.15it/s]\n",
      "100%|██████████| 450/450 [00:00<00:00, 123257.15it/s]\n",
      "100%|██████████| 450/450 [00:00<00:00, 282635.04it/s]\n"
     ]
    }
   ],
   "source": [
    "with mp.Pool(processes=NUM_PROCESSES) as pool:\n",
    "    train_imgs = pool.map(ReadImage, tqdm(train_file_list))\n",
    "    val_imgs = pool.map(ReadImage, tqdm(val_file_list))\n",
    "    test_imgs = pool.map(ReadImage, tqdm(test_file_list))"
   ]
  },
  {
   "cell_type": "code",
   "execution_count": 6,
   "metadata": {},
   "outputs": [],
   "source": [
    "# resize the images to 256x256\n",
    "def ResizeImage(image):\n",
    "    # resized_img = cv2.resize(image, (256, 256))\n",
    "    resized_img = cv2.resize(image, (128, 128))\n",
    "    return resized_img"
   ]
  },
  {
   "cell_type": "code",
   "execution_count": 7,
   "metadata": {},
   "outputs": [
    {
     "name": "stderr",
     "output_type": "stream",
     "text": [
      "100%|██████████| 63325/63325 [00:45<00:00, 1394.09it/s]\n",
      "100%|██████████| 450/450 [00:00<00:00, 4880.11it/s]\n",
      "100%|██████████| 450/450 [00:00<00:00, 4787.61it/s]\n"
     ]
    }
   ],
   "source": [
    "with mp.Pool(processes=NUM_PROCESSES) as pool:\n",
    "    resized_train_imgs = pool.map(ResizeImage, tqdm(train_imgs))\n",
    "    resized_val_imgs = pool.map(ResizeImage, tqdm(val_imgs))\n",
    "    resized_test_imgs = pool.map(ResizeImage, tqdm(test_imgs))"
   ]
  },
  {
   "attachments": {},
   "cell_type": "markdown",
   "metadata": {},
   "source": [
    "### DWT"
   ]
  },
  {
   "cell_type": "code",
   "execution_count": 42,
   "metadata": {},
   "outputs": [],
   "source": [
    "# Discrete Wavelet Transform\n",
    "def WaveletTransform(image):\n",
    "    coeffs = pywt.dwt2(data=image, wavelet='haar', mode='symmetric', axes=(0, 1))\n",
    "    # cA, (cH, cV, cD) = coeffs\n",
    "    _, (cH, cV, cD) = coeffs\n",
    "    # cA, _ = coeffs\n",
    "    # _, (cH, cV, _) = coeffs\n",
    "    # _, (cH, _, _) = coeffs\n",
    "    return np.array([[cH], [cV], [cD]]).squeeze()"
   ]
  },
  {
   "cell_type": "code",
   "execution_count": 43,
   "metadata": {},
   "outputs": [
    {
     "name": "stderr",
     "output_type": "stream",
     "text": [
      "100%|██████████| 63325/63325 [00:33<00:00, 1908.86it/s]\n",
      "100%|██████████| 450/450 [00:00<00:00, 2286.26it/s]\n",
      "100%|██████████| 450/450 [00:00<00:00, 2303.11it/s]\n"
     ]
    }
   ],
   "source": [
    "with mp.Pool(processes=NUM_PROCESSES) as pool:\n",
    "    train_features = pool.map(WaveletTransform, tqdm(resized_train_imgs))\n",
    "    val_features = pool.map(WaveletTransform, tqdm(resized_val_imgs))\n",
    "    test_features = pool.map(WaveletTransform, tqdm(resized_test_imgs))\n",
    "\n",
    "# train_features = np.array(train_features).squeeze()\n",
    "# val_features = np.array(val_features).squeeze()\n",
    "# test_features = np.array(test_features).squeeze()\n",
    "\n",
    "train_features = np.array(train_features)\n",
    "val_features = np.array(val_features)\n",
    "test_features = np.array(test_features)"
   ]
  },
  {
   "cell_type": "code",
   "execution_count": 44,
   "metadata": {},
   "outputs": [
    {
     "data": {
      "text/plain": [
       "(63325, 3, 64, 64)"
      ]
     },
     "execution_count": 44,
     "metadata": {},
     "output_type": "execute_result"
    }
   ],
   "source": [
    "train_features.shape"
   ]
  },
  {
   "attachments": {},
   "cell_type": "markdown",
   "metadata": {},
   "source": [
    "### CNN"
   ]
  },
  {
   "cell_type": "code",
   "execution_count": 45,
   "metadata": {},
   "outputs": [
    {
     "name": "stdout",
     "output_type": "stream",
     "text": [
      "Using cuda device\n"
     ]
    }
   ],
   "source": [
    "device = \"cuda\" if torch.cuda.is_available() else \"mps\" if torch.backends.mps.is_available() else \"cpu\"\n",
    "print(f\"Using {device} device\")"
   ]
  },
  {
   "cell_type": "code",
   "execution_count": 46,
   "metadata": {},
   "outputs": [
    {
     "name": "stdout",
     "output_type": "stream",
     "text": [
      "(63325, 3, 64, 64)\n",
      "63325\n"
     ]
    }
   ],
   "source": [
    "print(train_features.shape)\n",
    "print(len(train_label))"
   ]
  },
  {
   "cell_type": "code",
   "execution_count": 47,
   "metadata": {},
   "outputs": [],
   "source": [
    "# prepare dataloader\n",
    "BATCH_SIZE = 32\n",
    "IMG_W, IMG_H = 64, 64\n",
    "\n",
    "train_features = torch.FloatTensor(train_features)\n",
    "val_features = torch.FloatTensor(val_features)\n",
    "test_features = torch.FloatTensor(test_features)\n",
    "train_label = torch.IntTensor(train_label)\n",
    "val_label = torch.IntTensor(val_label)\n",
    "test_label = torch.IntTensor(test_label)\n",
    "\n",
    "train_dataset = TensorDataset(train_features, train_label)\n",
    "val_dataset = TensorDataset(val_features, val_label)\n",
    "test_dataset = TensorDataset(test_features, test_label)\n",
    "\n",
    "train_dataloader = DataLoader(\n",
    "    dataset=train_dataset,\n",
    "    batch_size=BATCH_SIZE,\n",
    "    shuffle=True,\n",
    "    num_workers=NUM_PROCESSES\n",
    ")\n",
    "val_dataloader = DataLoader(\n",
    "    dataset=val_dataset,\n",
    "    batch_size=BATCH_SIZE,\n",
    "    shuffle=True,\n",
    "    num_workers=NUM_PROCESSES\n",
    ")\n",
    "test_dataloader = DataLoader(\n",
    "    dataset=test_dataset,\n",
    "    batch_size=BATCH_SIZE,\n",
    "    shuffle=True,\n",
    "    num_workers=NUM_PROCESSES\n",
    ")"
   ]
  },
  {
   "cell_type": "code",
   "execution_count": 48,
   "metadata": {},
   "outputs": [],
   "source": [
    "class CNN(torch.nn.Module):  # input_shape: (32, 3, 64, 64)\n",
    "    def __init__(self, num_classes) -> None:\n",
    "        super(CNN, self).__init__()\n",
    "        # 1\n",
    "        self.conv1 = torch.nn.Conv2d(\n",
    "            in_channels=3,\n",
    "            out_channels=16,\n",
    "            kernel_size=3,\n",
    "            stride=1,\n",
    "            padding=1\n",
    "        )  # (-1, 16, 62, 62)\n",
    "        self.relu1 = torch.nn.ReLU()\n",
    "        self.pool1 = torch.nn.MaxPool2d(\n",
    "            kernel_size=2,\n",
    "            stride=2\n",
    "        )  # (16, 32, 32)\n",
    "        self.batchnorm1 = torch.nn.BatchNorm2d(num_features=16)\n",
    "        # 2\n",
    "        self.conv2 = torch.nn.Conv2d(\n",
    "            in_channels=16,\n",
    "            out_channels=32,\n",
    "            kernel_size=3,\n",
    "            stride=1,\n",
    "            padding=1\n",
    "        )  # (32, 32, 32)\n",
    "        self.relu2 = torch.nn.ReLU()\n",
    "        self.pool2 = torch.nn.MaxPool2d(\n",
    "            kernel_size=2,\n",
    "            stride=2\n",
    "        )  # (32, 16, 16)\n",
    "        self.batchnorm2 = torch.nn.BatchNorm2d(num_features=32)\n",
    "        # 3\n",
    "        self.conv3 = torch.nn.Conv2d(\n",
    "            in_channels=32,\n",
    "            out_channels=64,\n",
    "            kernel_size=3,\n",
    "            stride=1,\n",
    "            padding=1\n",
    "        )  # (64, 17, 17)\n",
    "        self.relu3 = torch.nn.ReLU()\n",
    "        self.pool3 = torch.nn.MaxPool2d(\n",
    "            kernel_size=2,\n",
    "            stride=2\n",
    "        )  # (64, 8, 8)\n",
    "        self.batchnorm3 = torch.nn.BatchNorm2d(num_features=64)\n",
    "        # 4\n",
    "        self.fc1 = torch.nn.Linear(\n",
    "            in_features=64 * 8 * 8,\n",
    "            out_features=128\n",
    "        )\n",
    "        self.relu4 = torch.nn.ReLU()\n",
    "        self.fc2 = torch.nn.Linear(\n",
    "            in_features=128,\n",
    "            out_features=num_classes\n",
    "        )\n",
    "\n",
    "    def forward(self, x):\n",
    "        x = self.batchnorm1(self.pool1(self.relu1(self.conv1(x))))\n",
    "        x = self.batchnorm2(self.pool2(self.relu2(self.conv2(x))))\n",
    "        x = self.batchnorm3(self.pool3(self.relu3(self.conv3(x))))\n",
    "        x = x.view(-1, 64 * 8 * 8)\n",
    "        x = self.relu4(self.fc1(x))\n",
    "        x = self.fc2(x)\n",
    "        return x\n"
   ]
  },
  {
   "attachments": {},
   "cell_type": "markdown",
   "metadata": {},
   "source": [
    "### Top-1 Accuracy"
   ]
  },
  {
   "cell_type": "code",
   "execution_count": 49,
   "metadata": {},
   "outputs": [],
   "source": [
    "# Calculate accuracy (a classification metric)\n",
    "def accuracy_fn(y_true, y_pred):\n",
    "    correct = torch.eq(y_true, y_pred).sum().item() # torch.eq() calculates where two tensors are equal\n",
    "    acc = (correct / len(y_pred)) * 100 \n",
    "    return acc"
   ]
  },
  {
   "cell_type": "code",
   "execution_count": 68,
   "metadata": {},
   "outputs": [
    {
     "name": "stdout",
     "output_type": "stream",
     "text": [
      "Train loss: 3.75522, Train acc: 5.50% | Validation loss: 3.69623, Validation acc: 7.29%\n",
      "Train loss: 3.54943, Train acc: 9.52% | Validation loss: 3.44280, Validation acc: 12.29%\n",
      "Train loss: 3.41215, Train acc: 12.33% | Validation loss: 3.40560, Validation acc: 11.46%\n",
      "Train loss: 3.28716, Train acc: 14.72% | Validation loss: 3.32731, Validation acc: 12.92%\n",
      "Train loss: 3.18535, Train acc: 16.60% | Validation loss: 3.25184, Validation acc: 13.54%\n",
      "Train loss: 3.10355, Train acc: 18.31% | Validation loss: 3.13563, Validation acc: 20.42%\n",
      "Train loss: 3.03382, Train acc: 19.88% | Validation loss: 3.03925, Validation acc: 18.75%\n",
      "Train loss: 2.96808, Train acc: 21.27% | Validation loss: 3.07207, Validation acc: 18.54%\n",
      "Train loss: 2.90568, Train acc: 22.81% | Validation loss: 3.03280, Validation acc: 19.79%\n",
      "Train loss: 2.84978, Train acc: 24.08% | Validation loss: 2.88424, Validation acc: 22.50%\n",
      "Train loss: 2.79496, Train acc: 25.56% | Validation loss: 3.00303, Validation acc: 18.54%\n",
      "Train loss: 2.74114, Train acc: 26.83% | Validation loss: 2.86621, Validation acc: 18.54%\n",
      "Train loss: 2.68940, Train acc: 27.89% | Validation loss: 2.87081, Validation acc: 19.79%\n",
      "Train loss: 2.63980, Train acc: 29.19% | Validation loss: 2.84441, Validation acc: 20.21%\n",
      "Train loss: 2.58991, Train acc: 30.41% | Validation loss: 2.86064, Validation acc: 21.67%\n",
      "Train loss: 2.54083, Train acc: 31.65% | Validation loss: 2.73849, Validation acc: 28.33%\n",
      "Train loss: 2.49465, Train acc: 32.79% | Validation loss: 2.78585, Validation acc: 22.50%\n",
      "Train loss: 2.44826, Train acc: 34.01% | Validation loss: 2.88830, Validation acc: 24.17%\n",
      "Train loss: 2.40025, Train acc: 35.33% | Validation loss: 2.85461, Validation acc: 23.54%\n",
      "Train loss: 2.35436, Train acc: 36.54% | Validation loss: 2.79571, Validation acc: 27.71%\n",
      "Train loss: 2.30961, Train acc: 37.66% | Validation loss: 2.77604, Validation acc: 28.33%\n",
      "Train loss: 2.26541, Train acc: 38.74% | Validation loss: 2.75744, Validation acc: 28.54%\n",
      "Train loss: 2.21909, Train acc: 40.05% | Validation loss: 2.87610, Validation acc: 22.71%\n",
      "Train loss: 2.17125, Train acc: 41.51% | Validation loss: 2.79236, Validation acc: 25.83%\n",
      "Train loss: 2.12746, Train acc: 42.56% | Validation loss: 2.75030, Validation acc: 29.38%\n",
      "Train loss: 2.08049, Train acc: 43.88% | Validation loss: 2.78960, Validation acc: 27.92%\n",
      "Train loss: 2.03485, Train acc: 45.16% | Validation loss: 2.75886, Validation acc: 24.58%\n",
      "Train loss: 1.98842, Train acc: 46.44% | Validation loss: 2.71385, Validation acc: 29.38%\n",
      "Train loss: 1.93949, Train acc: 47.97% | Validation loss: 2.88196, Validation acc: 25.42%\n",
      "Train loss: 1.89255, Train acc: 49.38% | Validation loss: 2.94580, Validation acc: 25.62%\n"
     ]
    }
   ],
   "source": [
    "model = CNN(num_classes=50).to(device)\n",
    "loss_fcn = torch.nn.CrossEntropyLoss()\n",
    "optimizer = torch.optim.SGD(model.parameters(), lr=1e-4, momentum=0.9)\n",
    "# optimizer = torch.optim.Adam(params=model.parameters(), lr=1e-3)\n",
    "\n",
    "torch.manual_seed(42)\n",
    "EPOCH = 30\n",
    "train_loss_list = []\n",
    "train_acc_list = []\n",
    "val_loss_list = []\n",
    "val_acc_list = []\n",
    "for epoch in range(EPOCH):\n",
    "    # print(f\"Epoch: {epoch + 1}\")\n",
    "    ### training\n",
    "    model.train()\n",
    "    train_loss, train_acc = 0, 0\n",
    "    for batch, (X, y) in enumerate(train_dataloader, start=1):\n",
    "        X, y = X.to(device), y.to(device)\n",
    "        y_logit = model(X)\n",
    "        y_pred = torch.argmax(softmax(y_logit, dim=1), dim=1) # top-1\n",
    "        loss = loss_fcn(y_logit, y.to(torch.int64))\n",
    "        train_loss += loss\n",
    "        train_acc += accuracy_fn(y, y_pred)\n",
    "\n",
    "        optimizer.zero_grad()\n",
    "        loss.backward()\n",
    "        optimizer.step()\n",
    "        \n",
    "        # if batch % 400 == 0:\n",
    "            # print(f\"Looked at {batch * len(X)}/{len(train_dataloader.dataset)} samples\")\n",
    "        \n",
    "    train_loss /= len(train_dataloader)\n",
    "    train_acc /= len(train_dataloader)\n",
    "    train_loss_list.append(train_loss)\n",
    "    train_acc_list.append(train_acc)\n",
    "\n",
    "    ### validation\n",
    "    model.eval()\n",
    "    val_loss, val_acc = 0, 0\n",
    "    with torch.inference_mode():\n",
    "        for X, y in val_dataloader:\n",
    "            X, y = X.to(device), y.to(device)\n",
    "            val_logit = model(X)\n",
    "            val_pred = torch.argmax(softmax(val_logit, dim=1), dim=1)\n",
    "\n",
    "            val_loss += loss_fcn(val_logit, y.to(torch.int64))\n",
    "            val_acc += accuracy_fn(y, val_pred)\n",
    "\n",
    "        val_loss /= len(val_dataloader)\n",
    "        val_acc /= len(val_dataloader)\n",
    "        val_loss_list.append(val_loss)\n",
    "        val_acc_list.append(val_acc)\n",
    "\n",
    "    print(f\"Train loss: {train_loss:.5f}, Train acc: {train_acc:.2f}% | Validation loss: {val_loss:.5f}, Validation acc: {val_acc:.2f}%\")"
   ]
  },
  {
   "cell_type": "code",
   "execution_count": 69,
   "metadata": {},
   "outputs": [
    {
     "name": "stderr",
     "output_type": "stream",
     "text": [
      "Exception ignored in: <bound method _MultiProcessingDataLoaderIter.__del__ of <torch.utils.data.dataloader._MultiProcessingDataLoaderIter object at 0x7f5853de04e0>>\n",
      "Traceback (most recent call last):\n",
      "  File \"/usr/local/lib/python3.6/dist-packages/torch/utils/data/dataloader.py\", line 1328, in __del__\n",
      "    self._shutdown_workers()\n",
      "  File \"/usr/local/lib/python3.6/dist-packages/torch/utils/data/dataloader.py\", line 1295, in _shutdown_workers\n",
      "    if self._persistent_workers or self._workers_status[worker_id]:\n",
      "AttributeError: '_MultiProcessingDataLoaderIter' object has no attribute '_workers_status'\n"
     ]
    },
    {
     "data": {
      "image/png": "[encoded data removed]",
      "text/plain": [
       "<matplotlib.figure.Figure at 0x7f5853f884e0>"
      ]
     },
     "metadata": {
      "needs_background": "light"
     },
     "output_type": "display_data"
    }
   ],
   "source": [
    "plt.plot(range(1, EPOCH+1), train_loss_list, label='Training Loss')\n",
    "plt.plot(range(1, EPOCH+1), val_loss_list, label='Validation Loss')\n",
    "plt.title('Loss')\n",
    "plt.xlabel('Epoch')\n",
    "plt.ylabel('Loss')\n",
    "plt.legend()\n",
    "plt.show()"
   ]
  },
  {
   "cell_type": "code",
   "execution_count": 70,
   "metadata": {},
   "outputs": [
    {
     "data": {
      "image/png": "[encoded data removed]",
      "text/plain": [
       "<matplotlib.figure.Figure at 0x7f584806e0b8>"
      ]
     },
     "metadata": {
      "needs_background": "light"
     },
     "output_type": "display_data"
    }
   ],
   "source": [
    "plt.plot(range(1, EPOCH+1), train_acc_list, label='Training Accuracy')\n",
    "plt.plot(range(1, EPOCH+1), val_acc_list, label='Validation Accuracy')\n",
    "plt.title('Accuracy')\n",
    "plt.xlabel('Epoch')\n",
    "plt.ylabel('Accuracy(%)')\n",
    "plt.legend()\n",
    "plt.show()"
   ]
  },
  {
   "attachments": {},
   "cell_type": "markdown",
   "metadata": {},
   "source": [
    "### Top-5 Accuracy"
   ]
  },
  {
   "cell_type": "code",
   "execution_count": 71,
   "metadata": {},
   "outputs": [],
   "source": [
    "def ComputeTop5Acc(y_logit, y):\n",
    "    y_prob = softmax(y_logit, dim=1)\n",
    "    y_pred_top5 = y_prob.argsort(axis=1)[:, -5:]\n",
    "    y_true_in_top5 = [y[i] in y_pred_top5[i] for i in range(len(y))]\n",
    "    \n",
    "    return (sum(np.array(y_true_in_top5) == np.array([True]*len(y))) / len(y)) * 100"
   ]
  },
  {
   "cell_type": "code",
   "execution_count": 72,
   "metadata": {},
   "outputs": [
    {
     "name": "stdout",
     "output_type": "stream",
     "text": [
      "Train loss: 3.74548, Train acc: 22.61% | Validation loss: 3.66368, Validation acc: 26.67%\n",
      "Train loss: 3.53807, Train acc: 32.36% | Validation loss: 3.41717, Validation acc: 34.79%\n",
      "Train loss: 3.39824, Train acc: 38.53% | Validation loss: 3.37814, Validation acc: 39.38%\n",
      "Train loss: 3.27973, Train acc: 42.87% | Validation loss: 3.30679, Validation acc: 39.38%\n",
      "Train loss: 3.18504, Train acc: 45.86% | Validation loss: 3.24420, Validation acc: 44.58%\n",
      "Train loss: 3.10689, Train acc: 48.39% | Validation loss: 3.16172, Validation acc: 46.88%\n",
      "Train loss: 3.04092, Train acc: 50.64% | Validation loss: 3.02986, Validation acc: 52.29%\n",
      "Train loss: 2.97925, Train acc: 52.64% | Validation loss: 3.08219, Validation acc: 46.04%\n",
      "Train loss: 2.91792, Train acc: 54.52% | Validation loss: 3.03000, Validation acc: 50.42%\n",
      "Train loss: 2.86122, Train acc: 56.39% | Validation loss: 2.88241, Validation acc: 55.00%\n",
      "Train loss: 2.80552, Train acc: 58.02% | Validation loss: 2.95451, Validation acc: 53.75%\n",
      "Train loss: 2.74987, Train acc: 59.59% | Validation loss: 2.86099, Validation acc: 54.38%\n",
      "Train loss: 2.69757, Train acc: 60.92% | Validation loss: 2.86117, Validation acc: 59.17%\n",
      "Train loss: 2.64834, Train acc: 62.49% | Validation loss: 2.83409, Validation acc: 55.00%\n",
      "Train loss: 2.59934, Train acc: 63.60% | Validation loss: 2.83296, Validation acc: 53.12%\n",
      "Train loss: 2.55217, Train acc: 64.80% | Validation loss: 2.72897, Validation acc: 60.62%\n",
      "Train loss: 2.50610, Train acc: 66.25% | Validation loss: 2.79299, Validation acc: 57.29%\n",
      "Train loss: 2.46031, Train acc: 67.38% | Validation loss: 2.80664, Validation acc: 54.58%\n",
      "Train loss: 2.41354, Train acc: 68.54% | Validation loss: 2.77614, Validation acc: 53.96%\n",
      "Train loss: 2.36777, Train acc: 69.65% | Validation loss: 2.78375, Validation acc: 58.54%\n",
      "Train loss: 2.32439, Train acc: 70.68% | Validation loss: 2.74753, Validation acc: 59.17%\n",
      "Train loss: 2.27927, Train acc: 71.88% | Validation loss: 2.68879, Validation acc: 63.75%\n",
      "Train loss: 2.23643, Train acc: 72.84% | Validation loss: 2.78594, Validation acc: 60.00%\n",
      "Train loss: 2.18734, Train acc: 73.99% | Validation loss: 2.79208, Validation acc: 60.62%\n",
      "Train loss: 2.14345, Train acc: 74.97% | Validation loss: 2.73131, Validation acc: 60.42%\n",
      "Train loss: 2.09804, Train acc: 75.84% | Validation loss: 2.74656, Validation acc: 60.62%\n",
      "Train loss: 2.05179, Train acc: 77.13% | Validation loss: 2.84878, Validation acc: 60.83%\n",
      "Train loss: 2.00324, Train acc: 78.07% | Validation loss: 2.67207, Validation acc: 63.12%\n",
      "Train loss: 1.95529, Train acc: 79.05% | Validation loss: 2.93008, Validation acc: 58.54%\n",
      "Train loss: 1.90670, Train acc: 80.01% | Validation loss: 2.83556, Validation acc: 60.00%\n"
     ]
    }
   ],
   "source": [
    "model = CNN(num_classes=50).to(device)\n",
    "loss_fcn = torch.nn.CrossEntropyLoss()\n",
    "optimizer = torch.optim.SGD(model.parameters(), lr=1e-4, momentum=0.9)\n",
    "# optimizer = torch.optim.Adam(params=model.parameters(), lr=1e-3)\n",
    "\n",
    "torch.manual_seed(42)\n",
    "EPOCH = 30\n",
    "train_loss_list = []\n",
    "train_acc_list = []\n",
    "val_loss_list = []\n",
    "val_acc_list = []\n",
    "for epoch in range(EPOCH):\n",
    "    # print(f\"Epoch: {epoch + 1}\")\n",
    "    ### training\n",
    "    model.train()\n",
    "    train_loss, train_acc = 0, 0\n",
    "    for batch, (X, y) in enumerate(train_dataloader, start=1):\n",
    "        X, y = X.to(device), y.to(device)\n",
    "        y_logit = model(X)\n",
    "        y_pred = torch.argmax(softmax(y_logit, dim=1), dim=1) # top-1\n",
    "        loss = loss_fcn(y_logit, y.to(torch.int64))\n",
    "        train_loss += loss\n",
    "        train_acc += ComputeTop5Acc(y_logit, y)  # top-5\n",
    "\n",
    "        optimizer.zero_grad()\n",
    "        loss.backward()\n",
    "        optimizer.step()\n",
    "        \n",
    "        # if batch % 400 == 0:\n",
    "            # print(f\"Looked at {batch * len(X)}/{len(train_dataloader.dataset)} samples\")\n",
    "    \n",
    "    train_loss /= len(train_dataloader)\n",
    "    train_acc /= len(train_dataloader)\n",
    "    train_loss_list.append(train_loss)\n",
    "    train_acc_list.append(train_acc)\n",
    "\n",
    "    ### validation\n",
    "    model.eval()\n",
    "    val_loss, val_acc = 0, 0\n",
    "    with torch.inference_mode():\n",
    "        for X, y in val_dataloader:\n",
    "            X, y = X.to(device), y.to(device)\n",
    "            val_logit = model(X)\n",
    "            val_pred = torch.argmax(softmax(val_logit, dim=1), dim=1)\n",
    "\n",
    "            val_loss += loss_fcn(val_logit, y.to(torch.int64))\n",
    "            val_acc += ComputeTop5Acc(val_logit, y)\n",
    "\n",
    "        val_loss /= len(val_dataloader)\n",
    "        val_acc /= len(val_dataloader)\n",
    "        val_loss_list.append(val_loss)\n",
    "        val_acc_list.append(val_acc)\n",
    "\n",
    "    print(f\"Train loss: {train_loss:.5f}, Train acc: {train_acc:.2f}% | Validation loss: {val_loss:.5f}, Validation acc: {val_acc:.2f}%\")"
   ]
  },
  {
   "cell_type": "code",
   "execution_count": 73,
   "metadata": {},
   "outputs": [
    {
     "data": {
      "image/png": "[encoded data removed]",
      "text/plain": [
       "<matplotlib.figure.Figure at 0x7f5853fe8ef0>"
      ]
     },
     "metadata": {
      "needs_background": "light"
     },
     "output_type": "display_data"
    }
   ],
   "source": [
    "plt.plot(range(1, EPOCH+1), train_loss_list, label='Training Loss')\n",
    "plt.plot(range(1, EPOCH+1), val_loss_list, label='Validation Loss')\n",
    "plt.title('Loss')\n",
    "plt.xlabel('Epoch')\n",
    "plt.ylabel('Loss')\n",
    "plt.legend()\n",
    "plt.show()"
   ]
  },
  {
   "cell_type": "code",
   "execution_count": 74,
   "metadata": {},
   "outputs": [
    {
     "data": {
      "image/png": "[encoded data removed]",
      "text/plain": [
       "<matplotlib.figure.Figure at 0x7f55c5b89668>"
      ]
     },
     "metadata": {
      "needs_background": "light"
     },
     "output_type": "display_data"
    }
   ],
   "source": [
    "plt.plot(range(1, EPOCH+1), train_acc_list, label='Training Accuracy')\n",
    "plt.plot(range(1, EPOCH+1), val_acc_list, label='Validation Accuracy')\n",
    "plt.title('Accuracy')\n",
    "plt.xlabel('Epoch')\n",
    "plt.ylabel('Accuracy(%)')\n",
    "plt.legend()\n",
    "plt.show()"
   ]
  },
  {
   "cell_type": "code",
   "execution_count": null,
   "metadata": {},
   "outputs": [],
   "source": []
  }
 ],
 "metadata": {
  "kernelspec": {
   "display_name": "Python 3",
   "language": "python",
   "name": "python3"
  },
  "language_info": {
   "codemirror_mode": {
    "name": "ipython",
    "version": 3
   },
   "file_extension": ".py",
   "mimetype": "text/x-python",
   "name": "python",
   "nbconvert_exporter": "python",
   "pygments_lexer": "ipython3",
   "version": "3.6.9"
  },
  "orig_nbformat": 4
 },
 "nbformat": 4,
 "nbformat_minor": 2
}
