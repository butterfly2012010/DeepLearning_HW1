{
 "cells": [
  {
   "cell_type": "code",
   "execution_count": 1,
   "metadata": {},
   "outputs": [],
   "source": [
    "import numpy as np\n",
    "import cv2\n",
    "import matplotlib.pyplot as plt\n",
    "\n",
    "import os\n",
    "import multiprocessing as mp\n",
    "from tqdm import tqdm\n",
    "import time\n",
    "\n",
    "# For feature extraction: discrete wavelet transform\n",
    "import pywt\n",
    "\n",
    "# For CNN\n",
    "import torch\n",
    "import torch.nn\n",
    "import torch.optim\n",
    "from torch.utils.data import TensorDataset, DataLoader\n",
    "from torch.nn.functional import softmax"
   ]
  },
  {
   "attachments": {},
   "cell_type": "markdown",
   "metadata": {},
   "source": [
    "### Reading images"
   ]
  },
  {
   "cell_type": "code",
   "execution_count": 2,
   "metadata": {},
   "outputs": [],
   "source": [
    "with open(\"./train.txt\") as f:\n",
    "    train_file_list = f.readlines()\n",
    "with open(\"./val.txt\") as f:\n",
    "    val_file_list = f.readlines()\n",
    "with open(\"./test.txt\") as f:\n",
    "    test_file_list = f.readlines()\n",
    "\n",
    "train_file_list = [x.strip().split(sep=\" \") for x in train_file_list]\n",
    "val_file_list = [x.strip().split(sep=\" \") for x in val_file_list]\n",
    "test_file_list = [x.strip().split(sep=\" \") for x in test_file_list]\n",
    "\n",
    "train_label = [int(x[1]) for x in train_file_list]\n",
    "val_label = [int(x[1]) for x in val_file_list]\n",
    "test_label = [int(x[1]) for x in test_file_list]\n",
    "\n",
    "train_file_list = [x[0] for x in train_file_list]\n",
    "val_file_list = [x[0] for x in val_file_list]\n",
    "test_file_list = [x[0] for x in test_file_list]"
   ]
  },
  {
   "cell_type": "code",
   "execution_count": 3,
   "metadata": {},
   "outputs": [
    {
     "name": "stdout",
     "output_type": "stream",
     "text": [
      "# cpus:  64\n"
     ]
    }
   ],
   "source": [
    "print(\"# cpus: \", os.cpu_count())"
   ]
  },
  {
   "cell_type": "code",
   "execution_count": 4,
   "metadata": {},
   "outputs": [],
   "source": [
    "NUM_PROCESSES = 8"
   ]
  },
  {
   "cell_type": "code",
   "execution_count": 5,
   "metadata": {},
   "outputs": [],
   "source": [
    "def ReadImage(filePath):\n",
    "    # image = cv2.imread(filePath, cv2.IMREAD_COLOR)\n",
    "    image = cv2.imread(filePath, cv2.IMREAD_GRAYSCALE)\n",
    "    # image = cv2.resize(image, (256, 256))\n",
    "    return image"
   ]
  },
  {
   "cell_type": "code",
   "execution_count": 6,
   "metadata": {},
   "outputs": [
    {
     "name": "stderr",
     "output_type": "stream",
     "text": [
      "100%|██████████| 63325/63325 [00:35<00:00, 1774.18it/s]\n",
      "100%|██████████| 450/450 [00:00<00:00, 383313.73it/s]\n",
      "100%|██████████| 450/450 [00:00<00:00, 268789.06it/s]\n"
     ]
    }
   ],
   "source": [
    "with mp.Pool(processes=NUM_PROCESSES) as pool:\n",
    "    train_imgs = pool.map(ReadImage, tqdm(train_file_list))\n",
    "    val_imgs = pool.map(ReadImage, tqdm(val_file_list))\n",
    "    test_imgs = pool.map(ReadImage, tqdm(test_file_list))"
   ]
  },
  {
   "cell_type": "code",
   "execution_count": 7,
   "metadata": {},
   "outputs": [],
   "source": [
    "# resize the images to 256x256\n",
    "def ResizeImage(image):\n",
    "    # resized_img = cv2.resize(image, (256, 256))\n",
    "    resized_img = cv2.resize(image, (128, 128))\n",
    "    return resized_img"
   ]
  },
  {
   "cell_type": "code",
   "execution_count": 8,
   "metadata": {},
   "outputs": [
    {
     "name": "stderr",
     "output_type": "stream",
     "text": [
      "100%|██████████| 63325/63325 [00:39<00:00, 1614.43it/s]\n",
      "100%|██████████| 450/450 [00:00<00:00, 3711.96it/s]\n",
      "100%|██████████| 450/450 [00:00<00:00, 4026.14it/s]\n"
     ]
    }
   ],
   "source": [
    "with mp.Pool(processes=NUM_PROCESSES) as pool:\n",
    "    resized_train_imgs = pool.map(ResizeImage, tqdm(train_imgs))\n",
    "    resized_val_imgs = pool.map(ResizeImage, tqdm(val_imgs))\n",
    "    resized_test_imgs = pool.map(ResizeImage, tqdm(test_imgs))"
   ]
  },
  {
   "attachments": {},
   "cell_type": "markdown",
   "metadata": {},
   "source": [
    "### DWT"
   ]
  },
  {
   "cell_type": "code",
   "execution_count": 9,
   "metadata": {},
   "outputs": [],
   "source": [
    "# Discrete Wavelet Transform\n",
    "def WaveletTransform(image):\n",
    "    coeffs = pywt.dwt2(data=image, wavelet='haar', mode='symmetric', axes=(0, 1))\n",
    "    # cA, (cH, cV, cD) = coeffs\n",
    "    # _, (cH, cV, cD) = coeffs\n",
    "    # cA, _ = coeffs\n",
    "    # _, (cH, cV, _) = coeffs\n",
    "    _, (cH, _, _) = coeffs\n",
    "    return np.array([cH])"
   ]
  },
  {
   "cell_type": "code",
   "execution_count": 10,
   "metadata": {},
   "outputs": [
    {
     "name": "stderr",
     "output_type": "stream",
     "text": [
      "100%|██████████| 63325/63325 [00:08<00:00, 7602.65it/s] \n",
      "100%|██████████| 450/450 [00:00<00:00, 5967.58it/s]\n",
      "100%|██████████| 450/450 [00:00<00:00, 5782.36it/s]\n"
     ]
    }
   ],
   "source": [
    "with mp.Pool(processes=NUM_PROCESSES) as pool:\n",
    "    train_features = pool.map(WaveletTransform, tqdm(resized_train_imgs))\n",
    "    val_features = pool.map(WaveletTransform, tqdm(resized_val_imgs))\n",
    "    test_features = pool.map(WaveletTransform, tqdm(resized_test_imgs))\n",
    "\n",
    "# train_features = np.array(train_features).squeeze()\n",
    "# val_features = np.array(val_features).squeeze()\n",
    "# test_features = np.array(test_features).squeeze()\n",
    "\n",
    "train_features = np.array(train_features)\n",
    "val_features = np.array(val_features)\n",
    "test_features = np.array(test_features)"
   ]
  },
  {
   "cell_type": "code",
   "execution_count": 11,
   "metadata": {},
   "outputs": [
    {
     "data": {
      "text/plain": [
       "(63325, 1, 64, 64)"
      ]
     },
     "execution_count": 11,
     "metadata": {},
     "output_type": "execute_result"
    }
   ],
   "source": [
    "train_features.shape"
   ]
  },
  {
   "attachments": {},
   "cell_type": "markdown",
   "metadata": {},
   "source": [
    "### CNN"
   ]
  },
  {
   "cell_type": "code",
   "execution_count": 12,
   "metadata": {},
   "outputs": [
    {
     "name": "stdout",
     "output_type": "stream",
     "text": [
      "Using cuda device\n"
     ]
    }
   ],
   "source": [
    "device = \"cuda\" if torch.cuda.is_available() else \"mps\" if torch.backends.mps.is_available() else \"cpu\"\n",
    "print(f\"Using {device} device\")"
   ]
  },
  {
   "cell_type": "code",
   "execution_count": 13,
   "metadata": {},
   "outputs": [
    {
     "name": "stdout",
     "output_type": "stream",
     "text": [
      "(63325, 1, 64, 64)\n",
      "63325\n"
     ]
    }
   ],
   "source": [
    "print(train_features.shape)\n",
    "print(len(train_label))"
   ]
  },
  {
   "cell_type": "code",
   "execution_count": 14,
   "metadata": {},
   "outputs": [],
   "source": [
    "# prepare dataloader\n",
    "BATCH_SIZE = 32\n",
    "IMG_W, IMG_H = 64, 64\n",
    "\n",
    "train_features = torch.FloatTensor(train_features)\n",
    "val_features = torch.FloatTensor(val_features)\n",
    "test_features = torch.FloatTensor(test_features)\n",
    "train_label = torch.IntTensor(train_label)\n",
    "val_label = torch.IntTensor(val_label)\n",
    "test_label = torch.IntTensor(test_label)\n",
    "\n",
    "train_dataset = TensorDataset(train_features, train_label)\n",
    "val_dataset = TensorDataset(val_features, val_label)\n",
    "test_dataset = TensorDataset(test_features, test_label)\n",
    "\n",
    "train_dataloader = DataLoader(\n",
    "    dataset=train_dataset,\n",
    "    batch_size=BATCH_SIZE,\n",
    "    shuffle=True,\n",
    "    num_workers=NUM_PROCESSES\n",
    ")\n",
    "val_dataloader = DataLoader(\n",
    "    dataset=val_dataset,\n",
    "    batch_size=BATCH_SIZE,\n",
    "    shuffle=True,\n",
    "    num_workers=NUM_PROCESSES\n",
    ")\n",
    "test_dataloader = DataLoader(\n",
    "    dataset=test_dataset,\n",
    "    batch_size=BATCH_SIZE,\n",
    "    shuffle=True,\n",
    "    num_workers=NUM_PROCESSES\n",
    ")"
   ]
  },
  {
   "cell_type": "code",
   "execution_count": 15,
   "metadata": {},
   "outputs": [],
   "source": [
    "class CNN(torch.nn.Module):  # input_shape: (32, 1, 64, 64)\n",
    "    def __init__(self, num_classes) -> None:\n",
    "        super(CNN, self).__init__()\n",
    "        # 1\n",
    "        self.conv1 = torch.nn.Conv2d(\n",
    "            in_channels=1,\n",
    "            out_channels=16,\n",
    "            kernel_size=3,\n",
    "            stride=1,\n",
    "            padding=1\n",
    "        )  # (-1, 16, 62, 62)\n",
    "        self.relu1 = torch.nn.ReLU()\n",
    "        self.pool1 = torch.nn.MaxPool2d(\n",
    "            kernel_size=2,\n",
    "            stride=2\n",
    "        )  # (16, 32, 32)\n",
    "        self.batchnorm1 = torch.nn.BatchNorm2d(num_features=16)\n",
    "        # 2\n",
    "        self.conv2 = torch.nn.Conv2d(\n",
    "            in_channels=16,\n",
    "            out_channels=32,\n",
    "            kernel_size=3,\n",
    "            stride=1,\n",
    "            padding=1\n",
    "        )  # (32, 32, 32)\n",
    "        self.relu2 = torch.nn.ReLU()\n",
    "        self.pool2 = torch.nn.MaxPool2d(\n",
    "            kernel_size=2,\n",
    "            stride=2\n",
    "        )  # (32, 16, 16)\n",
    "        self.batchnorm2 = torch.nn.BatchNorm2d(num_features=32)\n",
    "        # 3\n",
    "        self.conv3 = torch.nn.Conv2d(\n",
    "            in_channels=32,\n",
    "            out_channels=64,\n",
    "            kernel_size=3,\n",
    "            stride=1,\n",
    "            padding=1\n",
    "        )  # (64, 17, 17)\n",
    "        self.relu3 = torch.nn.ReLU()\n",
    "        self.pool3 = torch.nn.MaxPool2d(\n",
    "            kernel_size=2,\n",
    "            stride=2\n",
    "        )  # (64, 8, 8)\n",
    "        self.batchnorm3 = torch.nn.BatchNorm2d(num_features=64)\n",
    "        # 4\n",
    "        self.fc1 = torch.nn.Linear(\n",
    "            in_features=64 * 8 * 8,\n",
    "            out_features=128\n",
    "        )\n",
    "        self.relu4 = torch.nn.ReLU()\n",
    "        self.fc2 = torch.nn.Linear(\n",
    "            in_features=128,\n",
    "            out_features=num_classes\n",
    "        )\n",
    "\n",
    "    def forward(self, x):\n",
    "        x = self.pool1(self.relu1(self.conv1(x)))\n",
    "        x = self.pool2(self.relu2(self.conv2(x)))\n",
    "        x = self.pool3(self.relu3(self.conv3(x)))\n",
    "        x = x.view(-1, 64 * 8 * 8)\n",
    "        x = self.relu4(self.fc1(x))\n",
    "        x = self.fc2(x)\n",
    "        return x\n"
   ]
  },
  {
   "attachments": {},
   "cell_type": "markdown",
   "metadata": {},
   "source": [
    "### Top-1 Accuracy"
   ]
  },
  {
   "cell_type": "code",
   "execution_count": 41,
   "metadata": {},
   "outputs": [],
   "source": [
    "# Calculate accuracy (a classification metric)\n",
    "def accuracy_fn(y_true, y_pred):\n",
    "    correct = torch.eq(y_true, y_pred).sum().item() # torch.eq() calculates where two tensors are equal\n",
    "    acc = (correct / len(y_pred)) * 100 \n",
    "    return acc"
   ]
  },
  {
   "cell_type": "code",
   "execution_count": 57,
   "metadata": {},
   "outputs": [
    {
     "name": "stdout",
     "output_type": "stream",
     "text": [
      "\n",
      "Train loss: 3.45089 | Validation loss: 3.35966, Validation acc: 13.33%\n",
      "\n",
      "\n",
      "Train loss: 3.07244 | Validation loss: 2.93410, Validation acc: 20.00%\n",
      "\n",
      "\n",
      "Train loss: 2.87476 | Validation loss: 2.91664, Validation acc: 19.38%\n",
      "\n",
      "\n",
      "Train loss: 2.69799 | Validation loss: 3.03120, Validation acc: 16.46%\n",
      "\n",
      "\n",
      "Train loss: 2.52324 | Validation loss: 3.09304, Validation acc: 16.04%\n",
      "\n",
      "\n",
      "Train loss: 2.35227 | Validation loss: 3.09774, Validation acc: 18.75%\n",
      "\n",
      "\n",
      "Train loss: 2.19366 | Validation loss: 3.20287, Validation acc: 13.54%\n",
      "\n",
      "\n",
      "Train loss: 2.04843 | Validation loss: 3.41343, Validation acc: 14.79%\n",
      "\n",
      "\n",
      "Train loss: 1.91305 | Validation loss: 3.68565, Validation acc: 15.42%\n",
      "\n",
      "\n",
      "Train loss: 1.79635 | Validation loss: 3.65016, Validation acc: 17.92%\n",
      "\n"
     ]
    }
   ],
   "source": [
    "model = CNN(num_classes=50).to(device)\n",
    "loss_fcn = torch.nn.CrossEntropyLoss()\n",
    "# optimizer = torch.optim.SGD(model.parameters(), lr=1e-3, momentum=0.9)\n",
    "optimizer = torch.optim.Adam(params=model.parameters(), lr=1e-3)\n",
    "\n",
    "torch.manual_seed(42)\n",
    "EPOCH = 10\n",
    "train_loss_list = []\n",
    "train_acc_list = []\n",
    "val_loss_list = []\n",
    "val_acc_list = []\n",
    "for epoch in range(EPOCH):\n",
    "    # print(f\"Epoch: {epoch + 1}\")\n",
    "    ### training\n",
    "    model.train()\n",
    "    train_loss, train_acc = 0, 0\n",
    "    for batch, (X, y) in enumerate(train_dataloader, start=1):\n",
    "        X, y = X.to(device), y.to(device)\n",
    "        y_logit = model(X)\n",
    "        y_pred = torch.argmax(softmax(y_logit, dim=1), dim=1) # top-1\n",
    "        loss = loss_fcn(y_logit, y.to(torch.int64))\n",
    "        train_loss += loss\n",
    "        train_acc += accuracy_fn(y, y_pred)\n",
    "\n",
    "        optimizer.zero_grad()\n",
    "        loss.backward()\n",
    "        optimizer.step()\n",
    "        \n",
    "        # if batch % 400 == 0:\n",
    "            # print(f\"Looked at {batch * len(X)}/{len(train_dataloader.dataset)} samples\")\n",
    "        \n",
    "    train_loss /= len(train_dataloader)\n",
    "    train_acc /= len(train_dataloader)\n",
    "    train_loss_list.append(train_loss)\n",
    "    train_acc_list.append(train_acc)\n",
    "\n",
    "    ### validation\n",
    "    model.eval()\n",
    "    val_loss, val_acc = 0, 0\n",
    "    with torch.inference_mode():\n",
    "        for X, y in val_dataloader:\n",
    "            X, y = X.to(device), y.to(device)\n",
    "            val_logit = model(X)\n",
    "            val_pred = torch.argmax(softmax(val_logit, dim=1), dim=1)\n",
    "\n",
    "            val_loss += loss_fcn(val_logit, y.to(torch.int64))\n",
    "            val_acc += accuracy_fn(y, val_pred)\n",
    "\n",
    "        val_loss /= len(val_dataloader)\n",
    "        val_acc /= len(val_dataloader)\n",
    "        val_loss_list.append(val_loss)\n",
    "        val_acc_list.append(val_acc)\n",
    "\n",
    "    print(f\"\\nTrain loss: {train_loss:.5f} | Validation loss: {val_loss:.5f}, Validation acc: {val_acc:.2f}%\\n\")"
   ]
  },
  {
   "cell_type": "code",
   "execution_count": 58,
   "metadata": {},
   "outputs": [
    {
     "data": {
      "image/png": "[encoded data removed]",
      "text/plain": [
       "<matplotlib.figure.Figure at 0x7fa5d70270b8>"
      ]
     },
     "metadata": {
      "needs_background": "light"
     },
     "output_type": "display_data"
    }
   ],
   "source": [
    "plt.plot(range(1, EPOCH+1), train_loss_list, label='Training Loss')\n",
    "plt.plot(range(1, EPOCH+1), val_loss_list, label='Validation Loss')\n",
    "plt.title('Loss')\n",
    "plt.xlabel('Epoch')\n",
    "plt.ylabel('Loss')\n",
    "plt.legend()\n",
    "plt.show()"
   ]
  },
  {
   "cell_type": "code",
   "execution_count": 62,
   "metadata": {},
   "outputs": [
    {
     "data": {
      "image/png": "[encoded data removed]",
      "text/plain": [
       "<matplotlib.figure.Figure at 0x7fa34e9bb470>"
      ]
     },
     "metadata": {
      "needs_background": "light"
     },
     "output_type": "display_data"
    }
   ],
   "source": [
    "plt.plot(range(1, EPOCH+1), train_acc_list, label='Training Accuracy')\n",
    "plt.plot(range(1, EPOCH+1), val_acc_list, label='Validation Accuracy')\n",
    "plt.title('Accuracy')\n",
    "plt.xlabel('Epoch')\n",
    "plt.ylabel('Accuracy(%)')\n",
    "plt.legend()\n",
    "plt.show()"
   ]
  },
  {
   "attachments": {},
   "cell_type": "markdown",
   "metadata": {},
   "source": [
    "### Top-5 Accuracy"
   ]
  },
  {
   "cell_type": "code",
   "execution_count": 38,
   "metadata": {},
   "outputs": [
    {
     "data": {
      "text/plain": [
       "array([ True, False,  True, False])"
      ]
     },
     "execution_count": 38,
     "metadata": {},
     "output_type": "execute_result"
    }
   ],
   "source": [
    "np.array([True, False, True, False]) == np.array([True, True, True, True])"
   ]
  },
  {
   "cell_type": "code",
   "execution_count": 39,
   "metadata": {},
   "outputs": [],
   "source": [
    "def ComputeTop5Acc(y_logit, y):\n",
    "    y_prob = softmax(y_logit, dim=1)\n",
    "    y_pred_top5 = y_prob.argsort(axis=1)[:, -5:]\n",
    "    y_true_in_top5 = [y[i] in y_pred_top5[i] for i in range(len(y))]\n",
    "    \n",
    "    return (sum(np.array(y_true_in_top5) == np.array([True]*len(y))) / len(y)) * 100"
   ]
  },
  {
   "cell_type": "code",
   "execution_count": 41,
   "metadata": {},
   "outputs": [
    {
     "name": "stdout",
     "output_type": "stream",
     "text": [
      "\n",
      "Train loss: 3.39700 | Validation loss: 3.23960, Validation acc: 43.75%\n",
      "\n",
      "\n",
      "Train loss: 3.05900 | Validation loss: 2.97557, Validation acc: 49.17%\n",
      "\n",
      "\n",
      "Train loss: 2.87686 | Validation loss: 2.88216, Validation acc: 54.17%\n",
      "\n",
      "\n",
      "Train loss: 2.72441 | Validation loss: 3.04404, Validation acc: 49.38%\n",
      "\n",
      "\n",
      "Train loss: 2.57711 | Validation loss: 2.97000, Validation acc: 52.08%\n",
      "\n",
      "\n",
      "Train loss: 2.44620 | Validation loss: 3.12136, Validation acc: 51.46%\n",
      "\n",
      "\n",
      "Train loss: 2.30922 | Validation loss: 3.13620, Validation acc: 51.25%\n",
      "\n",
      "\n",
      "Train loss: 2.19389 | Validation loss: 3.34296, Validation acc: 47.50%\n",
      "\n",
      "\n",
      "Train loss: 2.08037 | Validation loss: 3.61061, Validation acc: 45.00%\n",
      "\n",
      "\n",
      "Train loss: 1.97935 | Validation loss: 3.55704, Validation acc: 48.54%\n",
      "\n"
     ]
    }
   ],
   "source": [
    "model = CNN(num_classes=50).to(device)\n",
    "loss_fcn = torch.nn.CrossEntropyLoss()\n",
    "# optimizer = torch.optim.SGD(model.parameters(), lr=1e-3, momentum=0.9)\n",
    "optimizer = torch.optim.Adam(params=model.parameters(), lr=1e-3)\n",
    "\n",
    "torch.manual_seed(42)\n",
    "EPOCH = 10\n",
    "train_loss_list = []\n",
    "train_acc_list = []\n",
    "val_loss_list = []\n",
    "val_acc_list = []\n",
    "for epoch in range(EPOCH):\n",
    "    # print(f\"Epoch: {epoch + 1}\")\n",
    "    ### training\n",
    "    model.train()\n",
    "    train_loss, train_acc = 0, 0\n",
    "    for batch, (X, y) in enumerate(train_dataloader, start=1):\n",
    "        X, y = X.to(device), y.to(device)\n",
    "        y_logit = model(X)\n",
    "        y_pred = torch.argmax(softmax(y_logit, dim=1), dim=1) # top-1\n",
    "        loss = loss_fcn(y_logit, y.to(torch.int64))\n",
    "        train_loss += loss\n",
    "        train_acc += ComputeTop5Acc(y_logit, y)  # top-5\n",
    "\n",
    "        optimizer.zero_grad()\n",
    "        loss.backward()\n",
    "        optimizer.step()\n",
    "        \n",
    "        # if batch % 400 == 0:\n",
    "            # print(f\"Looked at {batch * len(X)}/{len(train_dataloader.dataset)} samples\")\n",
    "    \n",
    "    train_loss /= len(train_dataloader)\n",
    "    train_acc /= len(train_dataloader)\n",
    "    train_loss_list.append(train_loss)\n",
    "    train_acc_list.append(train_acc)\n",
    "\n",
    "    ### validation\n",
    "    model.eval()\n",
    "    val_loss, val_acc = 0, 0\n",
    "    with torch.inference_mode():\n",
    "        for X, y in val_dataloader:\n",
    "            X, y = X.to(device), y.to(device)\n",
    "            val_logit = model(X)\n",
    "            val_pred = torch.argmax(softmax(val_logit, dim=1), dim=1)\n",
    "\n",
    "            val_loss += loss_fcn(val_logit, y.to(torch.int64))\n",
    "            val_acc += ComputeTop5Acc(val_logit, y)\n",
    "\n",
    "        val_loss /= len(val_dataloader)\n",
    "        val_acc /= len(val_dataloader)\n",
    "        val_loss_list.append(val_loss)\n",
    "        val_acc_list.append(val_acc)\n",
    "\n",
    "    print(f\"\\nTrain loss: {train_loss:.5f} | Validation loss: {val_loss:.5f}, Validation acc: {val_acc:.2f}%\\n\")"
   ]
  },
  {
   "cell_type": "code",
   "execution_count": 42,
   "metadata": {},
   "outputs": [
    {
     "data": {
      "image/png": "[encoded data removed]",
      "text/plain": [
       "<matplotlib.figure.Figure at 0x7f6d940d3240>"
      ]
     },
     "metadata": {
      "needs_background": "light"
     },
     "output_type": "display_data"
    }
   ],
   "source": [
    "plt.plot(range(1, EPOCH+1), train_loss_list, label='Training Loss')\n",
    "plt.plot(range(1, EPOCH+1), val_loss_list, label='Validation Loss')\n",
    "plt.title('Loss')\n",
    "plt.xlabel('Epoch')\n",
    "plt.ylabel('Loss')\n",
    "plt.legend()\n",
    "plt.show()"
   ]
  },
  {
   "cell_type": "code",
   "execution_count": 44,
   "metadata": {},
   "outputs": [
    {
     "data": {
      "image/png": "[encoded data removed]",
      "text/plain": [
       "<matplotlib.figure.Figure at 0x7f6c55e6e518>"
      ]
     },
     "metadata": {
      "needs_background": "light"
     },
     "output_type": "display_data"
    }
   ],
   "source": [
    "plt.plot(range(1, EPOCH+1), train_acc_list, label='Training Accuracy')\n",
    "plt.plot(range(1, EPOCH+1), val_acc_list, label='Validation Accuracy')\n",
    "plt.title('Accuracy')\n",
    "plt.xlabel('Epoch')\n",
    "plt.ylabel('Accuracy(%)')\n",
    "plt.legend()\n",
    "plt.show()"
   ]
  },
  {
   "cell_type": "code",
   "execution_count": null,
   "metadata": {},
   "outputs": [],
   "source": []
  }
 ],
 "metadata": {
  "kernelspec": {
   "display_name": "Python 3",
   "language": "python",
   "name": "python3"
  },
  "language_info": {
   "codemirror_mode": {
    "name": "ipython",
    "version": 3
   },
   "file_extension": ".py",
   "mimetype": "text/x-python",
   "name": "python",
   "nbconvert_exporter": "python",
   "pygments_lexer": "ipython3",
   "version": "3.6.9"
  },
  "orig_nbformat": 4
 },
 "nbformat": 4,
 "nbformat_minor": 2
}
