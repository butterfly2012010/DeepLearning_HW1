{
 "cells": [
  {
   "cell_type": "code",
   "execution_count": 1,
   "metadata": {},
   "outputs": [],
   "source": [
    "import numpy as np\n",
    "import cv2\n",
    "import matplotlib.pyplot as plt\n",
    "\n",
    "import os\n",
    "import multiprocessing as mp\n",
    "from tqdm import tqdm\n",
    "import time\n",
    "\n",
    "# For CNN\n",
    "import torch\n",
    "import torch.nn\n",
    "import torch.optim\n",
    "from torch.utils.data import TensorDataset, DataLoader\n",
    "from torch.nn.functional import softmax"
   ]
  },
  {
   "cell_type": "markdown",
   "metadata": {},
   "source": [
    "### Reading images"
   ]
  },
  {
   "cell_type": "code",
   "execution_count": 2,
   "metadata": {},
   "outputs": [],
   "source": [
    "with open(\"./train.txt\") as f:\n",
    "    train_file_list = f.readlines()\n",
    "with open(\"./val.txt\") as f:\n",
    "    val_file_list = f.readlines()\n",
    "with open(\"./test.txt\") as f:\n",
    "    test_file_list = f.readlines()\n",
    "\n",
    "train_file_list = [x.strip().split(sep=\" \") for x in train_file_list]\n",
    "val_file_list = [x.strip().split(sep=\" \") for x in val_file_list]\n",
    "test_file_list = [x.strip().split(sep=\" \") for x in test_file_list]\n",
    "\n",
    "train_label = [int(x[1]) for x in train_file_list]\n",
    "val_label = [int(x[1]) for x in val_file_list]\n",
    "test_label = [int(x[1]) for x in test_file_list]\n",
    "\n",
    "train_file_list = [x[0] for x in train_file_list]\n",
    "val_file_list = [x[0] for x in val_file_list]\n",
    "test_file_list = [x[0] for x in test_file_list]"
   ]
  },
  {
   "cell_type": "code",
   "execution_count": 3,
   "metadata": {},
   "outputs": [
    {
     "name": "stdout",
     "output_type": "stream",
     "text": [
      "# cpus:  64\n"
     ]
    }
   ],
   "source": [
    "print(\"# cpus: \", os.cpu_count())\n",
    "NUM_PROCESSES = 8"
   ]
  },
  {
   "cell_type": "code",
   "execution_count": 4,
   "metadata": {},
   "outputs": [
    {
     "name": "stderr",
     "output_type": "stream",
     "text": [
      "100%|██████████| 63325/63325 [01:22<00:00, 767.95it/s] \n",
      "100%|██████████| 450/450 [00:00<00:00, 123831.31it/s]\n",
      "100%|██████████| 450/450 [00:00<00:00, 169641.99it/s]\n"
     ]
    }
   ],
   "source": [
    "def ReadImage(filePath):\n",
    "    image = cv2.imread(filePath, cv2.IMREAD_COLOR)\n",
    "    # image = cv2.imread(filePath, cv2.IMREAD_GRAYSCALE)\n",
    "    # image = cv2.resize(image, (256, 256))\n",
    "    return image\n",
    "\n",
    "with mp.Pool(processes=NUM_PROCESSES) as pool:\n",
    "    train_imgs = pool.map(ReadImage, tqdm(train_file_list))\n",
    "    val_imgs = pool.map(ReadImage, tqdm(val_file_list))\n",
    "    test_imgs = pool.map(ReadImage, tqdm(test_file_list))"
   ]
  },
  {
   "cell_type": "code",
   "execution_count": 5,
   "metadata": {},
   "outputs": [
    {
     "name": "stderr",
     "output_type": "stream",
     "text": [
      "100%|██████████| 63325/63325 [01:55<00:00, 546.41it/s]\n",
      "100%|██████████| 450/450 [00:00<00:00, 894.32it/s]\n",
      "100%|██████████| 450/450 [00:00<00:00, 715.89it/s]\n"
     ]
    }
   ],
   "source": [
    "# resize the images to 256x256\n",
    "def ResizeImage(image):\n",
    "    # resized_img = cv2.resize(image, (256, 256))\n",
    "    resized_img = cv2.resize(image, (64, 64))\n",
    "    return resized_img\n",
    "\n",
    "with mp.Pool(processes=NUM_PROCESSES) as pool:\n",
    "    resized_train_imgs = pool.map(ResizeImage, tqdm(train_imgs))\n",
    "    resized_val_imgs = pool.map(ResizeImage, tqdm(val_imgs))\n",
    "    resized_test_imgs = pool.map(ResizeImage, tqdm(test_imgs))"
   ]
  },
  {
   "cell_type": "markdown",
   "metadata": {},
   "source": [
    "### CNN"
   ]
  },
  {
   "cell_type": "code",
   "execution_count": 6,
   "metadata": {},
   "outputs": [
    {
     "name": "stdout",
     "output_type": "stream",
     "text": [
      "Using cuda device\n"
     ]
    }
   ],
   "source": [
    "device = \"cuda\" if torch.cuda.is_available() else \"mps\" if torch.backends.mps.is_available() else \"cpu\"\n",
    "print(f\"Using {device} device\")"
   ]
  },
  {
   "cell_type": "code",
   "execution_count": 7,
   "metadata": {},
   "outputs": [],
   "source": [
    "# prepare dataloader\n",
    "BATCH_SIZE = 32\n",
    "IMG_W, IMG_H = 64, 64\n",
    "\n",
    "resized_train_imgs = np.array(resized_train_imgs)\n",
    "resized_val_imgs = np.array(resized_val_imgs)\n",
    "resized_test_imgs = np.array(resized_test_imgs)\n",
    "\n",
    "resized_train_imgs = torch.FloatTensor(resized_train_imgs)\n",
    "resized_val_imgs = torch.FloatTensor(resized_val_imgs)\n",
    "resized_test_imgs = torch.FloatTensor(resized_test_imgs)\n",
    "resized_train_imgs = resized_train_imgs.permute(0, 3, 1, 2)\n",
    "resized_val_imgs = resized_val_imgs.permute(0, 3, 1, 2)\n",
    "resized_test_imgs = resized_test_imgs.permute(0, 3, 1, 2)\n",
    "\n",
    "train_label = torch.IntTensor(train_label)\n",
    "val_label = torch.IntTensor(val_label)\n",
    "test_label = torch.IntTensor(test_label)\n",
    "\n",
    "train_dataset = TensorDataset(resized_train_imgs, train_label)\n",
    "val_dataset = TensorDataset(resized_val_imgs, val_label)\n",
    "test_dataset = TensorDataset(resized_test_imgs, test_label)\n",
    "\n",
    "train_dataloader = DataLoader(\n",
    "    dataset=train_dataset,\n",
    "    batch_size=BATCH_SIZE,\n",
    "    shuffle=True,\n",
    "    num_workers=NUM_PROCESSES\n",
    ")\n",
    "val_dataloader = DataLoader(\n",
    "    dataset=val_dataset,\n",
    "    batch_size=BATCH_SIZE,\n",
    "    shuffle=True,\n",
    "    num_workers=NUM_PROCESSES\n",
    ")\n",
    "test_dataloader = DataLoader(\n",
    "    dataset=test_dataset,\n",
    "    batch_size=BATCH_SIZE,\n",
    "    shuffle=True,\n",
    "    num_workers=NUM_PROCESSES\n",
    ")"
   ]
  },
  {
   "cell_type": "code",
   "execution_count": 8,
   "metadata": {},
   "outputs": [],
   "source": [
    "class CNN(torch.nn.Module):  # input_shape: (32, 3, 64, 64)\n",
    "    def __init__(self, num_classes) -> None:\n",
    "        super(CNN, self).__init__()\n",
    "        # 1\n",
    "        self.conv1 = torch.nn.Conv2d(\n",
    "            in_channels=3,\n",
    "            out_channels=16,\n",
    "            kernel_size=3,\n",
    "            stride=1,\n",
    "            padding=1\n",
    "        )  # (-1, 16, 62, 62)\n",
    "        self.relu1 = torch.nn.ReLU()\n",
    "        self.pool1 = torch.nn.MaxPool2d(\n",
    "            kernel_size=2,\n",
    "            stride=2\n",
    "        )  # (16, 32, 32)\n",
    "        self.batchnorm1 = torch.nn.BatchNorm2d(num_features=16)\n",
    "        # 2\n",
    "        self.conv2 = torch.nn.Conv2d(\n",
    "            in_channels=16,\n",
    "            out_channels=32,\n",
    "            kernel_size=3,\n",
    "            stride=1,\n",
    "            padding=1\n",
    "        )  # (32, 32, 32)\n",
    "        self.relu2 = torch.nn.ReLU()\n",
    "        self.pool2 = torch.nn.MaxPool2d(\n",
    "            kernel_size=2,\n",
    "            stride=2\n",
    "        )  # (32, 16, 16)\n",
    "        self.batchnorm2 = torch.nn.BatchNorm2d(num_features=32)\n",
    "        # 3\n",
    "        self.conv3 = torch.nn.Conv2d(\n",
    "            in_channels=32,\n",
    "            out_channels=64,\n",
    "            kernel_size=3,\n",
    "            stride=1,\n",
    "            padding=1\n",
    "        )  # (64, 17, 17)\n",
    "        self.relu3 = torch.nn.ReLU()\n",
    "        self.pool3 = torch.nn.MaxPool2d(\n",
    "            kernel_size=2,\n",
    "            stride=2\n",
    "        )  # (64, 8, 8)\n",
    "        self.batchnorm3 = torch.nn.BatchNorm2d(num_features=64)\n",
    "        # 4\n",
    "        self.fc1 = torch.nn.Linear(\n",
    "            in_features=64 * 8 * 8,\n",
    "            out_features=128\n",
    "        )\n",
    "        self.relu4 = torch.nn.ReLU()\n",
    "        self.fc2 = torch.nn.Linear(\n",
    "            in_features=128,\n",
    "            out_features=num_classes\n",
    "        )\n",
    "\n",
    "    def forward(self, x):\n",
    "        x = self.batchnorm1(self.pool1(self.relu1(self.conv1(x))))\n",
    "        x = self.batchnorm2(self.pool2(self.relu2(self.conv2(x))))\n",
    "        x = self.batchnorm3(self.pool3(self.relu3(self.conv3(x))))\n",
    "        x = x.view(-1, 64 * 8 * 8)\n",
    "        x = self.relu4(self.fc1(x))\n",
    "        x = self.fc2(x)\n",
    "        return x\n"
   ]
  },
  {
   "cell_type": "markdown",
   "metadata": {},
   "source": [
    "### Top-1 Accuracy"
   ]
  },
  {
   "cell_type": "code",
   "execution_count": 11,
   "metadata": {},
   "outputs": [],
   "source": [
    "# Calculate accuracy (a classification metric)\n",
    "def accuracy_fn(y_true, y_pred):\n",
    "    correct = torch.eq(y_true, y_pred).sum().item() # torch.eq() calculates where two tensors are equal\n",
    "    acc = (correct / len(y_pred)) * 100 \n",
    "    return acc"
   ]
  },
  {
   "cell_type": "code",
   "execution_count": 20,
   "metadata": {},
   "outputs": [
    {
     "name": "stdout",
     "output_type": "stream",
     "text": [
      "Train loss: 3.73052, Train acc: 7.60% | Validation loss: 3.54263, Validation acc: 10.62%\n",
      "Train loss: 3.34449, Train acc: 14.37% | Validation loss: 3.12171, Validation acc: 20.42%\n",
      "Train loss: 3.09917, Train acc: 18.33% | Validation loss: 2.91419, Validation acc: 23.33%\n",
      "Train loss: 2.96027, Train acc: 21.11% | Validation loss: 3.00306, Validation acc: 18.33%\n",
      "Train loss: 2.85989, Train acc: 23.52% | Validation loss: 3.00853, Validation acc: 20.42%\n",
      "Train loss: 2.77751, Train acc: 25.40% | Validation loss: 2.96552, Validation acc: 23.12%\n",
      "Train loss: 2.70845, Train acc: 27.07% | Validation loss: 2.71663, Validation acc: 24.58%\n",
      "Train loss: 2.64211, Train acc: 28.78% | Validation loss: 2.66943, Validation acc: 28.75%\n",
      "Train loss: 2.58231, Train acc: 30.10% | Validation loss: 2.61652, Validation acc: 30.00%\n",
      "Train loss: 2.52654, Train acc: 31.40% | Validation loss: 2.54123, Validation acc: 29.79%\n",
      "Train loss: 2.47561, Train acc: 32.67% | Validation loss: 2.71605, Validation acc: 26.67%\n",
      "Train loss: 2.42613, Train acc: 33.83% | Validation loss: 2.52570, Validation acc: 32.29%\n",
      "Train loss: 2.37668, Train acc: 35.03% | Validation loss: 2.55941, Validation acc: 27.92%\n",
      "Train loss: 2.33435, Train acc: 36.15% | Validation loss: 2.62467, Validation acc: 27.29%\n",
      "Train loss: 2.29015, Train acc: 37.15% | Validation loss: 2.55279, Validation acc: 31.25%\n",
      "Train loss: 2.24878, Train acc: 38.32% | Validation loss: 2.58860, Validation acc: 30.21%\n",
      "Train loss: 2.20675, Train acc: 39.51% | Validation loss: 2.48268, Validation acc: 28.54%\n",
      "Train loss: 2.16680, Train acc: 40.42% | Validation loss: 2.50222, Validation acc: 29.17%\n",
      "Train loss: 2.12699, Train acc: 41.40% | Validation loss: 2.50031, Validation acc: 28.75%\n",
      "Train loss: 2.08496, Train acc: 42.59% | Validation loss: 2.56065, Validation acc: 31.04%\n",
      "Train loss: 2.04555, Train acc: 43.73% | Validation loss: 2.44382, Validation acc: 32.08%\n",
      "Train loss: 2.00742, Train acc: 44.67% | Validation loss: 2.43699, Validation acc: 33.96%\n",
      "Train loss: 1.96617, Train acc: 45.99% | Validation loss: 2.47059, Validation acc: 33.12%\n",
      "Train loss: 1.92650, Train acc: 46.85% | Validation loss: 2.49567, Validation acc: 31.46%\n",
      "Train loss: 1.88509, Train acc: 48.27% | Validation loss: 2.42182, Validation acc: 31.67%\n",
      "Train loss: 1.84751, Train acc: 49.13% | Validation loss: 2.44220, Validation acc: 33.75%\n",
      "Train loss: 1.80737, Train acc: 50.23% | Validation loss: 2.32323, Validation acc: 36.88%\n",
      "Train loss: 1.76778, Train acc: 51.36% | Validation loss: 2.53133, Validation acc: 33.12%\n",
      "Train loss: 1.72614, Train acc: 52.58% | Validation loss: 2.63115, Validation acc: 30.83%\n",
      "Train loss: 1.68614, Train acc: 53.45% | Validation loss: 2.48448, Validation acc: 34.58%\n"
     ]
    }
   ],
   "source": [
    "model = CNN(num_classes=50).to(device)\n",
    "loss_fcn = torch.nn.CrossEntropyLoss()\n",
    "optimizer = torch.optim.SGD(model.parameters(), lr=1e-4, momentum=0.9)\n",
    "# optimizer = torch.optim.Adam(params=model.parameters(), lr=1e-3)\n",
    "\n",
    "torch.manual_seed(42)\n",
    "EPOCH = 30\n",
    "train_loss_list = []\n",
    "train_acc_list = []\n",
    "val_loss_list = []\n",
    "val_acc_list = []\n",
    "for epoch in range(EPOCH):\n",
    "    # print(f\"Epoch: {epoch + 1}\")\n",
    "    ### training\n",
    "    model.train()\n",
    "    train_loss, train_acc = 0, 0\n",
    "    for batch, (X, y) in enumerate(train_dataloader, start=1):\n",
    "        X, y = X.to(device), y.to(device)\n",
    "        y_logit = model(X)\n",
    "        y_pred = torch.argmax(softmax(y_logit, dim=1), dim=1) # top-1\n",
    "        loss = loss_fcn(y_logit, y.to(torch.int64))\n",
    "        train_loss += loss\n",
    "        train_acc += accuracy_fn(y, y_pred)\n",
    "\n",
    "        optimizer.zero_grad()\n",
    "        loss.backward()\n",
    "        optimizer.step()\n",
    "        \n",
    "        # if batch % 400 == 0:\n",
    "            # print(f\"Looked at {batch * len(X)}/{len(train_dataloader.dataset)} samples\")\n",
    "        \n",
    "    train_loss /= len(train_dataloader)\n",
    "    train_acc /= len(train_dataloader)\n",
    "    train_loss_list.append(train_loss)\n",
    "    train_acc_list.append(train_acc)\n",
    "\n",
    "    ### validation\n",
    "    model.eval()\n",
    "    val_loss, val_acc = 0, 0\n",
    "    with torch.inference_mode():\n",
    "        for X, y in val_dataloader:\n",
    "            X, y = X.to(device), y.to(device)\n",
    "            val_logit = model(X)\n",
    "            val_pred = torch.argmax(softmax(val_logit, dim=1), dim=1)\n",
    "\n",
    "            val_loss += loss_fcn(val_logit, y.to(torch.int64))\n",
    "            val_acc += accuracy_fn(y, val_pred)\n",
    "\n",
    "        val_loss /= len(val_dataloader)\n",
    "        val_acc /= len(val_dataloader)\n",
    "        val_loss_list.append(val_loss)\n",
    "        val_acc_list.append(val_acc)\n",
    "\n",
    "    print(f\"Train loss: {train_loss:.5f}, Train acc: {train_acc:.2f}% | Validation loss: {val_loss:.5f}, Validation acc: {val_acc:.2f}%\")"
   ]
  },
  {
   "cell_type": "code",
   "execution_count": 21,
   "metadata": {},
   "outputs": [
    {
     "data": {
      "image/png": "[encoded data removed]",
      "text/plain": [
       "<matplotlib.figure.Figure at 0x7f40583d4c50>"
      ]
     },
     "metadata": {
      "needs_background": "light"
     },
     "output_type": "display_data"
    }
   ],
   "source": [
    "plt.plot(range(1, EPOCH+1), train_loss_list, label='Training Loss')\n",
    "plt.plot(range(1, EPOCH+1), val_loss_list, label='Validation Loss')\n",
    "plt.title('Loss')\n",
    "plt.xlabel('Epoch')\n",
    "plt.ylabel('Loss')\n",
    "plt.legend()\n",
    "plt.show()"
   ]
  },
  {
   "cell_type": "code",
   "execution_count": 22,
   "metadata": {},
   "outputs": [
    {
     "data": {
      "image/png": "[encoded data removed]",
      "text/plain": [
       "<matplotlib.figure.Figure at 0x7f405827e908>"
      ]
     },
     "metadata": {
      "needs_background": "light"
     },
     "output_type": "display_data"
    }
   ],
   "source": [
    "plt.plot(range(1, EPOCH+1), train_acc_list, label='Training Accuracy')\n",
    "plt.plot(range(1, EPOCH+1), val_acc_list, label='Validation Accuracy')\n",
    "plt.title('Accuracy')\n",
    "plt.xlabel('Epoch')\n",
    "plt.ylabel('Accuracy(%)')\n",
    "plt.legend()\n",
    "plt.show()"
   ]
  },
  {
   "cell_type": "markdown",
   "metadata": {},
   "source": [
    "### Top-5 Accuracy"
   ]
  },
  {
   "cell_type": "code",
   "execution_count": 23,
   "metadata": {},
   "outputs": [],
   "source": [
    "def ComputeTop5Acc(y_logit, y):\n",
    "    y_prob = softmax(y_logit, dim=1)\n",
    "    y_pred_top5 = y_prob.argsort(axis=1)[:, -5:]\n",
    "    y_true_in_top5 = [y[i] in y_pred_top5[i] for i in range(len(y))]\n",
    "    \n",
    "    return (sum(np.array(y_true_in_top5) == np.array([True]*len(y))) / len(y)) * 100"
   ]
  },
  {
   "cell_type": "code",
   "execution_count": 24,
   "metadata": {},
   "outputs": [
    {
     "name": "stdout",
     "output_type": "stream",
     "text": [
      "Train loss: 3.72014, Train acc: 25.30% | Validation loss: 3.50362, Validation acc: 34.79%\n",
      "Train loss: 3.34141, Train acc: 41.00% | Validation loss: 3.10914, Validation acc: 48.33%\n",
      "Train loss: 3.08817, Train acc: 49.13% | Validation loss: 2.91942, Validation acc: 56.46%\n",
      "Train loss: 2.94355, Train acc: 53.60% | Validation loss: 2.91179, Validation acc: 56.04%\n",
      "Train loss: 2.84548, Train acc: 56.66% | Validation loss: 2.90498, Validation acc: 53.54%\n",
      "Train loss: 2.76980, Train acc: 58.77% | Validation loss: 2.84877, Validation acc: 56.25%\n",
      "Train loss: 2.70474, Train acc: 60.57% | Validation loss: 2.71204, Validation acc: 60.83%\n",
      "Train loss: 2.64504, Train acc: 62.27% | Validation loss: 2.63148, Validation acc: 64.79%\n",
      "Train loss: 2.58801, Train acc: 63.70% | Validation loss: 2.73068, Validation acc: 58.54%\n",
      "Train loss: 2.53547, Train acc: 65.39% | Validation loss: 2.59944, Validation acc: 62.08%\n",
      "Train loss: 2.48390, Train acc: 66.60% | Validation loss: 2.71676, Validation acc: 58.54%\n",
      "Train loss: 2.43229, Train acc: 68.00% | Validation loss: 2.53361, Validation acc: 64.58%\n",
      "Train loss: 2.38380, Train acc: 69.12% | Validation loss: 2.55942, Validation acc: 63.75%\n",
      "Train loss: 2.33933, Train acc: 70.35% | Validation loss: 2.55495, Validation acc: 61.04%\n",
      "Train loss: 2.29197, Train acc: 71.31% | Validation loss: 2.50065, Validation acc: 64.58%\n",
      "Train loss: 2.24737, Train acc: 72.38% | Validation loss: 2.47070, Validation acc: 64.58%\n",
      "Train loss: 2.20362, Train acc: 73.51% | Validation loss: 2.51429, Validation acc: 65.42%\n",
      "Train loss: 2.16098, Train acc: 74.36% | Validation loss: 2.51766, Validation acc: 64.79%\n",
      "Train loss: 2.12068, Train acc: 75.23% | Validation loss: 2.49071, Validation acc: 65.00%\n",
      "Train loss: 2.07569, Train acc: 76.24% | Validation loss: 2.49575, Validation acc: 65.42%\n",
      "Train loss: 2.03494, Train acc: 77.10% | Validation loss: 2.46611, Validation acc: 66.04%\n",
      "Train loss: 1.99442, Train acc: 78.01% | Validation loss: 2.45566, Validation acc: 67.08%\n",
      "Train loss: 1.95278, Train acc: 78.80% | Validation loss: 2.46290, Validation acc: 67.92%\n",
      "Train loss: 1.91097, Train acc: 79.67% | Validation loss: 2.58418, Validation acc: 61.67%\n",
      "Train loss: 1.86862, Train acc: 80.59% | Validation loss: 2.39294, Validation acc: 70.00%\n",
      "Train loss: 1.82856, Train acc: 81.40% | Validation loss: 2.47452, Validation acc: 68.96%\n",
      "Train loss: 1.78829, Train acc: 82.05% | Validation loss: 2.41694, Validation acc: 69.38%\n",
      "Train loss: 1.74763, Train acc: 82.84% | Validation loss: 2.41761, Validation acc: 67.29%\n",
      "Train loss: 1.70549, Train acc: 83.65% | Validation loss: 2.66988, Validation acc: 62.29%\n",
      "Train loss: 1.66466, Train acc: 84.42% | Validation loss: 2.69762, Validation acc: 67.29%\n"
     ]
    }
   ],
   "source": [
    "model = CNN(num_classes=50).to(device)\n",
    "loss_fcn = torch.nn.CrossEntropyLoss()\n",
    "optimizer = torch.optim.SGD(model.parameters(), lr=1e-4, momentum=0.9)\n",
    "# optimizer = torch.optim.Adam(params=model.parameters(), lr=1e-3)\n",
    "\n",
    "torch.manual_seed(42)\n",
    "EPOCH = 30\n",
    "train_loss_list = []\n",
    "train_acc_list = []\n",
    "val_loss_list = []\n",
    "val_acc_list = []\n",
    "for epoch in range(EPOCH):\n",
    "    # print(f\"Epoch: {epoch + 1}\")\n",
    "    ### training\n",
    "    model.train()\n",
    "    train_loss, train_acc = 0, 0\n",
    "    for batch, (X, y) in enumerate(train_dataloader, start=1):\n",
    "        X, y = X.to(device), y.to(device)\n",
    "        y_logit = model(X)\n",
    "        y_pred = torch.argmax(softmax(y_logit, dim=1), dim=1) # top-1\n",
    "        loss = loss_fcn(y_logit, y.to(torch.int64))\n",
    "        train_loss += loss\n",
    "        train_acc += ComputeTop5Acc(y_logit, y)  # top-5\n",
    "\n",
    "        optimizer.zero_grad()\n",
    "        loss.backward()\n",
    "        optimizer.step()\n",
    "        \n",
    "        # if batch % 400 == 0:\n",
    "            # print(f\"Looked at {batch * len(X)}/{len(train_dataloader.dataset)} samples\")\n",
    "    \n",
    "    train_loss /= len(train_dataloader)\n",
    "    train_acc /= len(train_dataloader)\n",
    "    train_loss_list.append(train_loss)\n",
    "    train_acc_list.append(train_acc)\n",
    "\n",
    "    ### validation\n",
    "    model.eval()\n",
    "    val_loss, val_acc = 0, 0\n",
    "    with torch.inference_mode():\n",
    "        for X, y in val_dataloader:\n",
    "            X, y = X.to(device), y.to(device)\n",
    "            val_logit = model(X)\n",
    "            val_pred = torch.argmax(softmax(val_logit, dim=1), dim=1)\n",
    "\n",
    "            val_loss += loss_fcn(val_logit, y.to(torch.int64))\n",
    "            val_acc += ComputeTop5Acc(val_logit, y)\n",
    "\n",
    "        val_loss /= len(val_dataloader)\n",
    "        val_acc /= len(val_dataloader)\n",
    "        val_loss_list.append(val_loss)\n",
    "        val_acc_list.append(val_acc)\n",
    "\n",
    "    print(f\"Train loss: {train_loss:.5f}, Train acc: {train_acc:.2f}% | Validation loss: {val_loss:.5f}, Validation acc: {val_acc:.2f}%\")"
   ]
  },
  {
   "cell_type": "code",
   "execution_count": 25,
   "metadata": {},
   "outputs": [
    {
     "data": {
      "image/png": "[encoded data removed]",
      "text/plain": [
       "<matplotlib.figure.Figure at 0x7f405839b320>"
      ]
     },
     "metadata": {
      "needs_background": "light"
     },
     "output_type": "display_data"
    }
   ],
   "source": [
    "plt.plot(range(1, EPOCH+1), train_loss_list, label='Training Loss')\n",
    "plt.plot(range(1, EPOCH+1), val_loss_list, label='Validation Loss')\n",
    "plt.title('Loss')\n",
    "plt.xlabel('Epoch')\n",
    "plt.ylabel('Loss')\n",
    "plt.legend()\n",
    "plt.show()"
   ]
  },
  {
   "cell_type": "code",
   "execution_count": 26,
   "metadata": {},
   "outputs": [
    {
     "data": {
      "image/png": "[encoded data removed]",
      "text/plain": [
       "<matplotlib.figure.Figure at 0x7f40580bc940>"
      ]
     },
     "metadata": {
      "needs_background": "light"
     },
     "output_type": "display_data"
    }
   ],
   "source": [
    "plt.plot(range(1, EPOCH+1), train_acc_list, label='Training Accuracy')\n",
    "plt.plot(range(1, EPOCH+1), val_acc_list, label='Validation Accuracy')\n",
    "plt.title('Accuracy')\n",
    "plt.xlabel('Epoch')\n",
    "plt.ylabel('Accuracy(%)')\n",
    "plt.legend()\n",
    "plt.show()"
   ]
  },
  {
   "cell_type": "code",
   "execution_count": null,
   "metadata": {},
   "outputs": [],
   "source": []
  }
 ],
 "metadata": {
  "kernelspec": {
   "display_name": "Python 3",
   "language": "python",
   "name": "python3"
  },
  "language_info": {
   "codemirror_mode": {
    "name": "ipython",
    "version": 3
   },
   "file_extension": ".py",
   "mimetype": "text/x-python",
   "name": "python",
   "nbconvert_exporter": "python",
   "pygments_lexer": "ipython3",
   "version": "3.6.9"
  },
  "orig_nbformat": 4
 },
 "nbformat": 4,
 "nbformat_minor": 2
}
